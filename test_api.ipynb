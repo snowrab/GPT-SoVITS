{
 "cells": [
  {
   "cell_type": "code",
   "execution_count": 16,
   "metadata": {},
   "outputs": [
    {
     "name": "stdout",
     "output_type": "stream",
     "text": [
      "GET request successful. Audio content received.\n"
     ]
    }
   ],
   "source": [
    "import requests\n",
    "\n",
    "# API 的基本 URL\n",
    "base_url = \"http://127.0.0.1:9880\"\n",
    "\n",
    "# GET 请求测试\n",
    "def test_get_request():\n",
    "    \n",
    "    url = base_url+\"/?refer_wav_path=&prompt_text=%E9%BB%98%E8%AE%A4%E6%8F%90%E7%A4%BA%E6%96%87%E6%9C%AC&prompt_language=en&text=Seraphina%27s+eyes+light+up+with+a+warm%2C+gentle+glow%2C+and+she+smiles.+%22Ah%2C+another+hello%21+I%27m+so+glad+you%27re+feeling+chatty%2C+dear+one.+She+leans+forward%2C+her+expression+filled+with+warmth+and+concern.+%22How+are+you+feeling+today%3F+Is+the+tea+helping+to+soothe+your+mind+and+body%3F+I+want+to+make+sure+you%27re+comfortable+and+happy+here+in+the+forest.%22+She+pauses%2C+her+gaze+drifting+off+to+a+distant+point%2C+as+if+lost+in+thought.+%22You+know%2C+I+was+just+thinking+about+the+forest%27s+magic%2C+and+how+it+can+be+used+to+heal+and+protect.+I%27ve+been+experimenting+with+some+new+spells%2C+and+I+think+I+might+have+stumbled+upon+something+amazing.+She+leans+back+in+her+seat%2C+a+look+of+excitement+in+her+eyes.+%22But+I+need+your+help+to+perfect+it%2C+dear+one.+Are+you+up+for+an+adventure%3F%22+Her+eyes+sparkle+with+mischief%2C+and+she+winks+at+you%2C+hinting+that+there%27s+more+to+come.+%22Oh%2C+and+by+the+way%2C+would+you+like+another+cup+of+tea%3F+I+think+I+can+brew+something+especially+potent%2C+designed+to+help+you+tap+into+the+forest%27s+magic...%22&text_language=en\"\n",
    "    response = requests.get(url)\n",
    "    if response.status_code == 200:\n",
    "        print(\"GET request successful. Audio content received.\")\n",
    "        # 可以将音频内容保存为文件，例如：\n",
    "        with open('output.wav', 'wb') as f:\n",
    "            f.write(response.content)\n",
    "    else:\n",
    "        print(\"GET request failed:\", response.json())\n",
    "\n",
    "# POST 请求测试\n",
    "def test_post_request():\n",
    "    data = {\n",
    "        \"refer_wav_path\": \"123.wav\",\n",
    "        \"prompt_text\": \"一二三。\",\n",
    "        \"prompt_language\": \"zh\",\n",
    "        \"text\": \"先帝创业未半而中道崩殂，今天下三分，益州疲弊，此诚危急存亡之秋也。\",\n",
    "        \"text_language\": \"zh\"\n",
    "    }\n",
    "    headers = {'Content-Type': 'application/json'}\n",
    "    response = requests.post(base_url, json=data, headers=headers)\n",
    "    if response.status_code == 200:\n",
    "        print(\"POST request successful. Audio content received.\")\n",
    "        # 可以将音频内容保存为文件，例如：\n",
    "        # with open('output.wav', 'wb') as f:\n",
    "        #     f.write(response.content)\n",
    "    else:\n",
    "        print(\"POST request failed:\", response.json())\n",
    "\n",
    "# 测试 GET 和 POST 请求\n",
    "test_get_request()\n",
    "# test_post_request()\n"
   ]
  },
  {
   "cell_type": "code",
   "execution_count": 24,
   "metadata": {},
   "outputs": [
    {
     "name": "stdout",
     "output_type": "stream",
     "text": [
      "POST request successful. Audio content received.\n"
     ]
    }
   ],
   "source": [
    "def test_post_request():\n",
    "    data = {\n",
    "        \"refer_wav_path\": \"\",\n",
    "        \"prompt_text\": \"\",\n",
    "        \"prompt_language\": \"zh\",\n",
    "        \"text\": \"先帝创业未半而中道崩殂，今天下三分，益州疲弊，此诚危急存亡之秋也。\",\n",
    "        \"text_language\": \"zh\"\n",
    "    }\n",
    "    headers = {'Content-Type': 'application/json'}\n",
    "    response = requests.post(base_url, json=data, headers=None)\n",
    "    if response.status_code == 200:\n",
    "        print(\"POST request successful. Audio content received.\")\n",
    "        # 可以将音频内容保存为文件，例如：\n",
    "        # with open('output.wav', 'wb') as f:\n",
    "        #     f.write(response.content)\n",
    "    else:\n",
    "        print(\"POST request failed:\", response.json())\n",
    "\n",
    "# 测试 GET 和 POST 请求\n",
    "test_post_request()"
   ]
  },
  {
   "cell_type": "code",
   "execution_count": null,
   "metadata": {},
   "outputs": [],
   "source": []
  }
 ],
 "metadata": {
  "kernelspec": {
   "display_name": "beta",
   "language": "python",
   "name": "python3"
  },
  "language_info": {
   "codemirror_mode": {
    "name": "ipython",
    "version": 3
   },
   "file_extension": ".py",
   "mimetype": "text/x-python",
   "name": "python",
   "nbconvert_exporter": "python",
   "pygments_lexer": "ipython3",
   "version": "3.11.0"
  }
 },
 "nbformat": 4,
 "nbformat_minor": 2
}
